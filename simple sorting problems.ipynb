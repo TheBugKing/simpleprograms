{
 "cells": [
  {
   "cell_type": "markdown",
   "metadata": {},
   "source": [
    "## given an array implement a function to return the position of sorted elements"
   ]
  },
  {
   "cell_type": "markdown",
   "metadata": {},
   "source": [
    "# Solution 1"
   ]
  },
  {
   "cell_type": "code",
   "execution_count": 2,
   "metadata": {},
   "outputs": [
    {
     "name": "stdout",
     "output_type": "stream",
     "text": [
      "enter the size of arry4\n",
      "enter array element 0:\t5\n",
      "enter array element 1:\t3\n",
      "enter array element 2:\t1\n",
      "enter array element 3:\t7\n"
     ]
    }
   ],
   "source": [
    "arr=[]\n",
    "for i in range(int(input(\"enter the size of arry\"))):\n",
    "    arr.append(int(input(f\"enter array element {i}:\\t\")))\n",
    "def funIndex(arr):\n",
    "# getting index of arr elements\n",
    "    arr_index=[arr.index(i) for i in arr]\n",
    "    \n",
    "    # mapping of elements and indexes in list of tuples and sorting them\n",
    "    arr2=sorted([i for i in zip(arr,arr_index)])\n",
    "    print(\"sorted tuple in the form of (value, index)\",arr2)\n",
    "\n",
    "    # printing the index value only\n",
    "    res=[ arr2[i][1] for i in range(len(arr2))]\n",
    "    print(f\"\\n the index of sorted elements the original arrar is {res}\")\n"
   ]
  },
  {
   "cell_type": "code",
   "execution_count": 3,
   "metadata": {},
   "outputs": [
    {
     "name": "stdout",
     "output_type": "stream",
     "text": [
      "sorted tuple in the form of (value, index) [(1, 2), (3, 1), (5, 0), (7, 3)]\n",
      "\n",
      " the index of sorted elements the original arrar is [2, 1, 0, 3]\n"
     ]
    }
   ],
   "source": [
    "funIndex(arr)\n",
    "             \n"
   ]
  },
  {
   "cell_type": "markdown",
   "metadata": {},
   "source": [
    "## given an array implement a function to return the sorted elements of an array , with changing the elements of old array and print both sorted and the old arrays"
   ]
  },
  {
   "cell_type": "markdown",
   "metadata": {},
   "source": [
    "# solution 2"
   ]
  },
  {
   "cell_type": "code",
   "execution_count": 4,
   "metadata": {},
   "outputs": [
    {
     "name": "stdout",
     "output_type": "stream",
     "text": [
      "enter the size of arry8\n",
      "enter array element 0:\t6\n",
      "enter array element 1:\t4\n",
      "enter array element 2:\t2\n",
      "enter array element 3:\t8\n",
      "enter array element 4:\t3\n",
      "enter array element 5:\t2\n",
      "enter array element 6:\t0\n",
      "enter array element 7:\t7\n",
      " new array [0, 2, 2, 3, 4, 6, 7, 8]\n",
      " initial array [6, 4, 2, 8, 3, 2, 0, 7]\n"
     ]
    }
   ],
   "source": [
    "initial_arr=[]\n",
    "arr=[]\n",
    "for i in range(int(input(\"enter the size of arry\"))):\n",
    "    initial_arr.append(int(input(f\"enter array element {i}:\\t\")))\n",
    "def sorting1(arr):\n",
    "    new_arr=sorted(initial_arr)\n",
    "    print(\" new array\",new_arr)\n",
    "    \n",
    "sorting1(initial_arr)    \n",
    "print(\" initial array\",initial_arr)"
   ]
  },
  {
   "cell_type": "raw",
   "metadata": {},
   "source": [
    "or"
   ]
  },
  {
   "cell_type": "code",
   "execution_count": 5,
   "metadata": {},
   "outputs": [],
   "source": [
    "import copy\n",
    "def sorting2(arr):\n",
    "    new=copy.deepcopy(arr)\n",
    "    for i in range(len(new)):\n",
    "        for j in range(i+1,len(new)):\n",
    "            if new[i] > new[j]:\n",
    "                temp=new[j]\n",
    "                new[j]=new[i]\n",
    "                new[i]=temp\n",
    "    print(f\"the new array is {new}\")"
   ]
  },
  {
   "cell_type": "code",
   "execution_count": 6,
   "metadata": {},
   "outputs": [
    {
     "name": "stdout",
     "output_type": "stream",
     "text": [
      "the new array is [0, 2, 2, 3, 4, 6, 7, 8]\n",
      " value old  array is : [6, 4, 2, 8, 3, 2, 0, 7]\n"
     ]
    }
   ],
   "source": [
    "sorting2(initial_arr)\n",
    "print(f\" value old  array is : {initial_arr}\")"
   ]
  },
  {
   "cell_type": "code",
   "execution_count": null,
   "metadata": {},
   "outputs": [],
   "source": []
  }
 ],
 "metadata": {
  "kernelspec": {
   "display_name": "Python 3",
   "language": "python",
   "name": "python3"
  },
  "language_info": {
   "codemirror_mode": {
    "name": "ipython",
    "version": 3
   },
   "file_extension": ".py",
   "mimetype": "text/x-python",
   "name": "python",
   "nbconvert_exporter": "python",
   "pygments_lexer": "ipython3",
   "version": "3.6.5"
  }
 },
 "nbformat": 4,
 "nbformat_minor": 2
}
