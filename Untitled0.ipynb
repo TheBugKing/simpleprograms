{
  "nbformat": 4,
  "nbformat_minor": 0,
  "metadata": {
    "colab": {
      "name": "Untitled0.ipynb",
      "version": "0.3.2",
      "provenance": [],
      "include_colab_link": true
    },
    "kernelspec": {
      "name": "python2",
      "display_name": "Python 2"
    }
  },
  "cells": [
    {
      "cell_type": "markdown",
      "metadata": {
        "id": "view-in-github",
        "colab_type": "text"
      },
      "source": [
        "<a href=\"https://colab.research.google.com/github/TheBugKing/simpleprograms/blob/master/Untitled0.ipynb\" target=\"_parent\"><img src=\"https://colab.research.google.com/assets/colab-badge.svg\" alt=\"Open In Colab\"/></a>"
      ]
    },
    {
      "metadata": {
        "id": "mrEl4zMQG_Sq",
        "colab_type": "code",
        "colab": {
          "base_uri": "https://localhost:8080/",
          "height": 101
        },
        "outputId": "65bd7967-0afd-470b-9432-ca556a704074"
      },
      "cell_type": "code",
      "source": [
        "#fibbo seris\n",
        "\n",
        "a=-1\n",
        "b=1\n",
        "n=5\n",
        "for i in range(n):\n",
        "  c=a+b\n",
        "  a=b\n",
        "  b=c\n",
        "  print(c)"
      ],
      "execution_count": 18,
      "outputs": [
        {
          "output_type": "stream",
          "text": [
            "0\n",
            "1\n",
            "1\n",
            "2\n",
            "3\n"
          ],
          "name": "stdout"
        }
      ]
    },
    {
      "metadata": {
        "id": "7YSwDJrCUSbw",
        "colab_type": "code",
        "colab": {}
      },
      "cell_type": "code",
      "source": [
        ""
      ],
      "execution_count": 0,
      "outputs": []
    },
    {
      "metadata": {
        "id": "faAOQXxzNUMx",
        "colab_type": "code",
        "colab": {
          "base_uri": "https://localhost:8080/",
          "height": 34
        },
        "outputId": "006f47cf-2a9d-4eb7-c909-4fa08da62830"
      },
      "cell_type": "code",
      "source": [
        "string=\"hello\"\n",
        "string[::-1]"
      ],
      "execution_count": 25,
      "outputs": [
        {
          "output_type": "execute_result",
          "data": {
            "text/plain": [
              "'olleh'"
            ]
          },
          "metadata": {
            "tags": []
          },
          "execution_count": 25
        }
      ]
    },
    {
      "metadata": {
        "id": "mZVL8bkWbCZl",
        "colab_type": "code",
        "colab": {}
      },
      "cell_type": "code",
      "source": [
        ""
      ],
      "execution_count": 0,
      "outputs": []
    },
    {
      "metadata": {
        "id": "Bulbu4nUbFHS",
        "colab_type": "code",
        "colab": {}
      },
      "cell_type": "code",
      "source": [
        "# factors of number\n",
        "# sum of digits of num\n",
        "# factorial of num\n",
        "# int palindrome\n",
        "# string palindrome\n",
        "# armstrong\n",
        "# sum of prime in given range"
      ],
      "execution_count": 0,
      "outputs": []
    },
    {
      "metadata": {
        "id": "iFNaQzCLbf45",
        "colab_type": "code",
        "colab": {
          "base_uri": "https://localhost:8080/",
          "height": 34
        },
        "outputId": "2059ff04-c0c1-422f-9850-93248ce3cb49"
      },
      "cell_type": "code",
      "source": [
        "#factors of number\n",
        "n=14\n",
        "factor=[i for i in range(1,n+1) if(n % i == 0)]\n",
        "print(factor)"
      ],
      "execution_count": 44,
      "outputs": [
        {
          "output_type": "stream",
          "text": [
            "[1, 2, 4]\n"
          ],
          "name": "stdout"
        }
      ]
    },
    {
      "metadata": {
        "id": "oVg7YAcob2ap",
        "colab_type": "code",
        "colab": {
          "base_uri": "https://localhost:8080/",
          "height": 34
        },
        "outputId": "e11a1608-4101-4095-997e-c008656a5430"
      },
      "cell_type": "code",
      "source": [
        "#sum of digits of number\n",
        "num=758\n",
        "sum=0\n",
        "while(num):\n",
        "  a=num%10\n",
        "  sum+=a\n",
        "  num=num/10\n",
        "  \n",
        "print(sum)\n",
        "  "
      ],
      "execution_count": 50,
      "outputs": [
        {
          "output_type": "stream",
          "text": [
            "20\n"
          ],
          "name": "stdout"
        }
      ]
    },
    {
      "metadata": {
        "id": "GH4A0oxjeUBs",
        "colab_type": "code",
        "colab": {}
      },
      "cell_type": "code",
      "source": [
        "#factorial of number\n",
        "n=5\n",
        "fact=0\n",
        "while(n):\n",
        "  fact=n*(n-1)\n",
        "  n=n-1\n",
        "print(fact)"
      ],
      "execution_count": 0,
      "outputs": []
    },
    {
      "metadata": {
        "id": "VlFPM6DHfgLD",
        "colab_type": "code",
        "colab": {
          "base_uri": "https://localhost:8080/",
          "height": 34
        },
        "outputId": "4285b306-9b2f-45f0-ca2c-88e6ad9175c6"
      },
      "cell_type": "code",
      "source": [
        "#str palindrome\n",
        "string=\"nayan\"\n",
        "if(string == string[::-1]):\n",
        "  print(\"true\")\n",
        "else:\n",
        "  print(\"false\")"
      ],
      "execution_count": 60,
      "outputs": [
        {
          "output_type": "stream",
          "text": [
            "true\n"
          ],
          "name": "stdout"
        }
      ]
    },
    {
      "metadata": {
        "id": "QEYFd0StgiZm",
        "colab_type": "code",
        "colab": {}
      },
      "cell_type": "code",
      "source": [
        "#int palindrom\n",
        "num=123\n",
        "pal=0\n",
        "while(num):\n",
        "  reminder=num % 10\n",
        "  pal=10*pal+reminder\n",
        "  num=num/10\n",
        "if(num == pal):\n",
        "  print(\"true\")\n",
        "else:\n",
        "  print(\"false\")"
      ],
      "execution_count": 0,
      "outputs": []
    },
    {
      "metadata": {
        "id": "f3trg4wKiYrO",
        "colab_type": "code",
        "colab": {
          "base_uri": "https://localhost:8080/",
          "height": 34
        },
        "outputId": "b2e8580d-dbd5-4b8e-b2a9-ff4e2c65d712"
      },
      "cell_type": "code",
      "source": [
        "#sum of prime\n",
        "\n",
        "num=14\n",
        "s=0\n",
        "\n",
        "for i in range(1,num+1):\n",
        "  count=0\n",
        "  for j in range(1,num+1):\n",
        "    if(i%j==0):\n",
        "      count=count+1\n",
        "  if(count==2):\n",
        "    s=s+i\n",
        "print(s)"
      ],
      "execution_count": 7,
      "outputs": [
        {
          "output_type": "stream",
          "text": [
            "41\n"
          ],
          "name": "stdout"
        }
      ]
    },
    {
      "metadata": {
        "id": "e0Padf8uls3U",
        "colab_type": "code",
        "colab": {
          "base_uri": "https://localhost:8080/",
          "height": 34
        },
        "outputId": "8c1ea873-364e-4699-f7cd-7f13d5ee7cb5"
      },
      "cell_type": "code",
      "source": [
        "#armstrong\n",
        "num=371\n",
        "sum=0\n",
        "temp=num\n",
        "while(num):\n",
        "  rem=num % 10\n",
        "  sum= sum+ rem * rem * rem\n",
        "  num=num/10\n",
        "if sum==temp:\n",
        "  print(\"true\")\n",
        "else:\n",
        "  print(\"false\")\n"
      ],
      "execution_count": 17,
      "outputs": [
        {
          "output_type": "stream",
          "text": [
            "true\n"
          ],
          "name": "stdout"
        }
      ]
    },
    {
      "metadata": {
        "id": "O_bnEhhha9wB",
        "colab_type": "code",
        "colab": {
          "base_uri": "https://localhost:8080/",
          "height": 34
        },
        "outputId": "14dc426a-38d8-47f9-81ae-47aa7edf7b95"
      },
      "cell_type": "code",
      "source": [
        "#binary to decimal\n",
        "def binaryde(binary):\n",
        "\td=0\n",
        "\ti=0\n",
        "\twhile(binary):\n",
        "  \t\trem=binary % 10\n",
        "  \t\td=d + (rem * 2 ** i)\n",
        "  \t\ti=i+1\n",
        "  \t\tbinary=binary/10\n",
        "\treturn d\n",
        "\n",
        "binaryde(11011)"
      ],
      "execution_count": 76,
      "outputs": [
        {
          "output_type": "execute_result",
          "data": {
            "text/plain": [
              "27"
            ]
          },
          "metadata": {
            "tags": []
          },
          "execution_count": 76
        }
      ]
    },
    {
      "metadata": {
        "id": "YnCbj-U341uh",
        "colab_type": "code",
        "colab": {
          "base_uri": "https://localhost:8080/",
          "height": 34
        },
        "outputId": "e6d2101d-e8c2-447b-8b9b-4febe91b2c6a"
      },
      "cell_type": "code",
      "source": [
        "#decimal to binary\n",
        "def decimalBi(decimal):\n",
        "\tb=[]\n",
        "\twhile(decimal):\n",
        "\t\trem=decimal % 2\n",
        "\t\tb.append(rem)\n",
        "\t\tdecimal=decimal/2\n",
        "\treturn (int(\"\".join(map(str, b[::-1]))))\n",
        "decimalBi(26)"
      ],
      "execution_count": 67,
      "outputs": [
        {
          "output_type": "execute_result",
          "data": {
            "text/plain": [
              "11010"
            ]
          },
          "metadata": {
            "tags": []
          },
          "execution_count": 67
        }
      ]
    },
    {
      "metadata": {
        "id": "U6b30AOdz2v1",
        "colab_type": "code",
        "colab": {
          "base_uri": "https://localhost:8080/",
          "height": 34
        },
        "outputId": "e56aac1e-f75d-4245-941d-c0e5fe82347d"
      },
      "cell_type": "code",
      "source": [
        "#odd even number\n",
        "num=8\n",
        "if(num%2==0):\n",
        "  print(\"even\")\n",
        "else:\n",
        "  print(\"odd\")"
      ],
      "execution_count": 48,
      "outputs": [
        {
          "output_type": "stream",
          "text": [
            "even\n"
          ],
          "name": "stdout"
        }
      ]
    },
    {
      "metadata": {
        "id": "Oqq3lTM1522L",
        "colab_type": "code",
        "colab": {
          "base_uri": "https://localhost:8080/",
          "height": 34
        },
        "outputId": "8edf5621-889b-48d2-af13-6019cc1ad85d"
      },
      "cell_type": "code",
      "source": [
        "#binary to octal\n",
        "def binaryoct(binary):\n",
        "  bno=binaryde(binary)\n",
        "  o=[]\n",
        "  while(bno):\n",
        "    rem=bno % 8\n",
        "    o.append(rem)\n",
        "    bno=bno/8\n",
        "  return (int(\"\".join(map(str, o[::-1]))))\n",
        "  \n",
        "binaryoct(110111011)\n"
      ],
      "execution_count": 83,
      "outputs": [
        {
          "output_type": "execute_result",
          "data": {
            "text/plain": [
              "673"
            ]
          },
          "metadata": {
            "tags": []
          },
          "execution_count": 83
        }
      ]
    },
    {
      "metadata": {
        "id": "SQO-6Xxm8TEP",
        "colab_type": "code",
        "colab": {
          "base_uri": "https://localhost:8080/",
          "height": 34
        },
        "outputId": "e02d506f-9f4f-40f3-dafc-abaf75fcb510"
      },
      "cell_type": "code",
      "source": [
        "#decimal to octal\n",
        "def decimaloct(decimal):\n",
        "  o=[]\n",
        "  while(decimal):\n",
        "    rem=decimal % 8\n",
        "    o.append(rem)\n",
        "    decimal=decimal/8\n",
        "  return (int(\"\".join(map(str, o[::-1]))))\n",
        "\n",
        "\n",
        "decimaloct(25)"
      ],
      "execution_count": 85,
      "outputs": [
        {
          "output_type": "execute_result",
          "data": {
            "text/plain": [
              "31"
            ]
          },
          "metadata": {
            "tags": []
          },
          "execution_count": 85
        }
      ]
    },
    {
      "metadata": {
        "id": "ehC3II3s9DbQ",
        "colab_type": "code",
        "colab": {
          "base_uri": "https://localhost:8080/",
          "height": 34
        },
        "outputId": "882ae6b2-f92e-4e34-9e03-3c549df5b993"
      },
      "cell_type": "code",
      "source": [
        "#reverse digits of number\n",
        "num=256\n",
        "rev=0\n",
        "while(num):\n",
        "  rem=num%10\n",
        "  rev=10 * rev + rem\n",
        "  num=num/10\n",
        "print(rev)"
      ],
      "execution_count": 87,
      "outputs": [
        {
          "output_type": "stream",
          "text": [
            "652\n"
          ],
          "name": "stdout"
        }
      ]
    },
    {
      "metadata": {
        "id": "hTu3e19N9ngL",
        "colab_type": "code",
        "colab": {
          "base_uri": "https://localhost:8080/",
          "height": 34
        },
        "outputId": "e64d5def-6991-4340-c3d6-3bd13f1e4698"
      },
      "cell_type": "code",
      "source": [
        "#area of circle\n",
        "def areacircle(radius):\n",
        "  return (3.14 * (radius**2))\n",
        "areacircle(3)"
      ],
      "execution_count": 91,
      "outputs": [
        {
          "output_type": "execute_result",
          "data": {
            "text/plain": [
              "28.26"
            ]
          },
          "metadata": {
            "tags": []
          },
          "execution_count": 91
        }
      ]
    },
    {
      "metadata": {
        "id": "OKKgkFhB-V-n",
        "colab_type": "code",
        "colab": {
          "base_uri": "https://localhost:8080/",
          "height": 34
        },
        "outputId": "a2a3d185-9b0d-44ae-920e-f52403bc090b"
      },
      "cell_type": "code",
      "source": [
        "#area of traingle\n",
        "def areatriangle(base,height):\n",
        "  print('{0:.2f}'.format(base*height*0.5))\n",
        "\n",
        "areatriangle(11,3)"
      ],
      "execution_count": 64,
      "outputs": [
        {
          "output_type": "stream",
          "text": [
            "16.50\n"
          ],
          "name": "stdout"
        }
      ]
    },
    {
      "metadata": {
        "id": "DYmblieU-3RR",
        "colab_type": "code",
        "colab": {
          "base_uri": "https://localhost:8080/",
          "height": 34
        },
        "outputId": "dd92e198-183d-4a31-eb97-ce184b1959fa"
      },
      "cell_type": "code",
      "source": [
        "#square root\n",
        "def squarert(number):\n",
        "  return number**0.5\n",
        "squarert(243)"
      ],
      "execution_count": 149,
      "outputs": [
        {
          "output_type": "execute_result",
          "data": {
            "text/plain": [
              "15.588457268119896"
            ]
          },
          "metadata": {
            "tags": []
          },
          "execution_count": 149
        }
      ]
    },
    {
      "metadata": {
        "id": "eoTRXrQQBsd0",
        "colab_type": "code",
        "colab": {
          "base_uri": "https://localhost:8080/",
          "height": 84
        },
        "outputId": "b2f22ade-b9cf-42ea-e463-c53a48dc2af2"
      },
      "cell_type": "code",
      "source": [
        "#square root of prime numbers\n",
        "def sqrprime(number):\n",
        "  for i in range(1,number+1):\n",
        "    count=0\n",
        "    for j in range(1,number+1):\n",
        "      if(i%j==0):\n",
        "        count=count+1\n",
        "    if count==2:\n",
        "      print(i,squarert(i))\n",
        "\n",
        "sqrprime(10)      "
      ],
      "execution_count": 119,
      "outputs": [
        {
          "output_type": "stream",
          "text": [
            "(2, 1.4142135623730951)\n",
            "(3, 1.7320508075688772)\n",
            "(5, 2.23606797749979)\n",
            "(7, 2.6457513110645907)\n"
          ],
          "name": "stdout"
        }
      ]
    },
    {
      "metadata": {
        "id": "r7oYNXla-4OT",
        "colab_type": "code",
        "colab": {
          "base_uri": "https://localhost:8080/",
          "height": 34
        },
        "outputId": "fd0a6c29-5638-495e-e89e-1e2c008871f8"
      },
      "cell_type": "code",
      "source": [
        "#leap year\n",
        "\n",
        "def leap(year):\n",
        "  if year%4==0 and (not year%100==0 or year%400==0):\n",
        "    return True\n",
        "  else:\n",
        "    return False\n",
        "leap(2016)"
      ],
      "execution_count": 133,
      "outputs": [
        {
          "output_type": "execute_result",
          "data": {
            "text/plain": [
              "True"
            ]
          },
          "metadata": {
            "tags": []
          },
          "execution_count": 133
        }
      ]
    },
    {
      "metadata": {
        "id": "12sDmkeOF-_0",
        "colab_type": "code",
        "colab": {
          "base_uri": "https://localhost:8080/",
          "height": 118
        },
        "outputId": "dec4600a-ff1f-4ef9-e05e-f3ab59efe16e"
      },
      "cell_type": "code",
      "source": [
        "def rangeleapyear(fr,to):\n",
        "\tif fr>to:\n",
        "\t\tfr,to=to,fr\n",
        "\tfor i in range(fr,to+1):\n",
        "\t\tif leap(i):\n",
        "\t\t\tprint(i)\n",
        "rangeleapyear(2020,2040)"
      ],
      "execution_count": 145,
      "outputs": [
        {
          "output_type": "stream",
          "text": [
            "2020\n",
            "2024\n",
            "2028\n",
            "2032\n",
            "2036\n",
            "2040\n"
          ],
          "name": "stdout"
        }
      ]
    },
    {
      "metadata": {
        "id": "PpZk7qanI-xN",
        "colab_type": "code",
        "colab": {
          "base_uri": "https://localhost:8080/",
          "height": 34
        },
        "outputId": "8c7f3e5a-7941-4dfe-d776-eaf13f002c21"
      },
      "cell_type": "code",
      "source": [
        "even=odd=0\n",
        "n=16\n",
        "for i in range(1,n+1):\n",
        "  if i%2==0:\n",
        "    if i==n:\n",
        "      print(3**even)\n",
        "    even+=1\n",
        "  else:\n",
        "    if i==n:\n",
        "      print(2**odd)\n",
        "    odd+=1\n",
        "    \n",
        "  "
      ],
      "execution_count": 165,
      "outputs": [
        {
          "output_type": "stream",
          "text": [
            "2187\n"
          ],
          "name": "stdout"
        }
      ]
    },
    {
      "metadata": {
        "id": "FvRmfScRq3MF",
        "colab_type": "code",
        "colab": {
          "base_uri": "https://localhost:8080/",
          "height": 34
        },
        "outputId": "911a7b7e-52c3-4edb-f458-f87b95895f48"
      },
      "cell_type": "code",
      "source": [
        "#seris 1,1,2,2,4,4,6,6,8,8\n",
        "n=8\n",
        "e=o=0\n",
        "for i in range(1,n+1):\n",
        "  if i%2==0:\n",
        "    if(i==n):\n",
        "      print(2**e)\n",
        "    e=e+1\n",
        "  else:\n",
        "    if (i==n):\n",
        "      print(2**o)\n",
        "    o=o+1"
      ],
      "execution_count": 33,
      "outputs": [
        {
          "output_type": "stream",
          "text": [
            "8\n"
          ],
          "name": "stdout"
        }
      ]
    },
    {
      "metadata": {
        "id": "BdhdIf08M_cg",
        "colab_type": "code",
        "colab": {
          "base_uri": "https://localhost:8080/",
          "height": 34
        },
        "outputId": "539d3ff0-ec56-4120-be7d-f2c3bee55677"
      },
      "cell_type": "code",
      "source": [
        "#0,0,2,1,4,2,6,3,8,4,10,5,12,6,14,7,16,8\n",
        "n=9\n",
        "num=0\n",
        "for i in range(1,n+1):\n",
        "  if (i % 2 !=0):\n",
        "    num=i-1\n",
        "    if(i==n):\n",
        "      print(num)\n",
        "  elif (i % 2==0):\n",
        "    num=num/2\n",
        "    if(i==n):\n",
        "      print(num)"
      ],
      "execution_count": 65,
      "outputs": [
        {
          "output_type": "stream",
          "text": [
            "8\n"
          ],
          "name": "stdout"
        }
      ]
    },
    {
      "metadata": {
        "id": "R64AA-6XcaQ8",
        "colab_type": "code",
        "colab": {
          "base_uri": "https://localhost:8080/",
          "height": 34
        },
        "outputId": "2392917f-7c7c-4ec9-8de1-c67797540857"
      },
      "cell_type": "code",
      "source": [
        "def lcm(x,y):\n",
        "  greatest=0\n",
        "  if x>y:\n",
        "    greatest=x\n",
        "  elif y>x:\n",
        "    greatest=y\n",
        "  else:\n",
        "    l=x\n",
        "    return l\n",
        "  while(greatest):\n",
        "    if(greatest%x==0 and greatest%y==0):\n",
        "      l=greatest\n",
        "      return l\n",
        "    greatest+=1\n",
        "lcm(3,3)"
      ],
      "execution_count": 75,
      "outputs": [
        {
          "output_type": "execute_result",
          "data": {
            "text/plain": [
              "3"
            ]
          },
          "metadata": {
            "tags": []
          },
          "execution_count": 75
        }
      ]
    },
    {
      "metadata": {
        "id": "cbmbaPPueI_M",
        "colab_type": "code",
        "colab": {}
      },
      "cell_type": "code",
      "source": [
        ""
      ],
      "execution_count": 0,
      "outputs": []
    }
  ]
}