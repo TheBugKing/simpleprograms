{
  "nbformat": 4,
  "nbformat_minor": 0,
  "metadata": {
    "colab": {
      "name": "TCS CODING SOLUTIONS",
      "version": "0.3.2",
      "provenance": [],
      "include_colab_link": true
    },
    "kernelspec": {
      "name": "python2",
      "display_name": "Python 2"
    }
  },
  "cells": [
    {
      "cell_type": "markdown",
      "metadata": {
        "id": "view-in-github",
        "colab_type": "text"
      },
      "source": [
        "<a href=\"https://colab.research.google.com/github/TheBugKing/simpleprograms/blob/master/TCS_CODING_SOLUTIONS.ipynb\" target=\"_parent\"><img src=\"https://colab.research.google.com/assets/colab-badge.svg\" alt=\"Open In Colab\"/></a>"
      ]
    },
    {
      "metadata": {
        "id": "GCNdnzU7JDEu",
        "colab_type": "code",
        "colab": {
          "base_uri": "https://localhost:8080/",
          "height": 134
        },
        "outputId": "34757261-adf2-4f17-c780-3a74c45525af"
      },
      "cell_type": "code",
      "source": [
        "#fibonacci series\n",
        "\n",
        "a=-1\n",
        "b=1\n",
        "limit=6\n",
        "for i in range(0,limit+1):\n",
        "    sum=a+b\n",
        "    a=b\n",
        "    b=sum\n",
        "    print(sum)"
      ],
      "execution_count": 11,
      "outputs": [
        {
          "output_type": "stream",
          "text": [
            "0\n",
            "1\n",
            "1\n",
            "2\n",
            "3\n",
            "5\n",
            "8\n"
          ],
          "name": "stdout"
        }
      ]
    },
    {
      "metadata": {
        "id": "7HTYdoUvLc_u",
        "colab_type": "code",
        "colab": {
          "base_uri": "https://localhost:8080/",
          "height": 84
        },
        "outputId": "49f8e066-fe7f-4d73-eab0-a40e736db61a"
      },
      "cell_type": "code",
      "source": [
        "#swap two numbers\n",
        "a=10\n",
        "b=20\n",
        "print(a,b)\n",
        "a,b=b,a\n",
        "print(a,b)\n",
        "\n",
        "#swapping withoutn using a third variable\n",
        "a=10\n",
        "b=20\n",
        "print(a,b)\n",
        "a=a+b\n",
        "b=a-b\n",
        "a=a-b\n",
        "print(a,b)"
      ],
      "execution_count": 13,
      "outputs": [
        {
          "output_type": "stream",
          "text": [
            "(10, 20)\n",
            "(20, 10)\n",
            "(10, 20)\n",
            "(20, 10)\n"
          ],
          "name": "stdout"
        }
      ]
    },
    {
      "metadata": {
        "id": "WzBXoKzlOOC4",
        "colab_type": "code",
        "colab": {
          "base_uri": "https://localhost:8080/",
          "height": 34
        },
        "outputId": "0ff8d134-1709-4296-f56c-5069761e5ba2"
      },
      "cell_type": "code",
      "source": [
        "s=\"sourabh\"\n",
        "print(s[::-1])"
      ],
      "execution_count": 15,
      "outputs": [
        {
          "output_type": "stream",
          "text": [
            "hbaruos\n"
          ],
          "name": "stdout"
        }
      ]
    },
    {
      "metadata": {
        "id": "uNdNWm6PQ2x4",
        "colab_type": "code",
        "colab": {
          "base_uri": "https://localhost:8080/",
          "height": 50
        },
        "outputId": "96625a48-5ee5-4155-c514-51492fcebe80"
      },
      "cell_type": "code",
      "source": [
        "#HCF OF TWO NUMBERS\n",
        "\n",
        "def hcf(x,y):\n",
        "  if x > y:\n",
        "      smaller = y\n",
        "  elif x<y:\n",
        "      smaller = x\n",
        "  else:\n",
        "    return x\n",
        "  for i in range(1, smaller+1):\n",
        "      if((x % i == 0) and (y % i == 0)):\n",
        "          hcf = i\n",
        "  return hcf\n",
        "\n",
        "#eculidian\n",
        "def hcf1(x,y):\n",
        "  if x > y:\n",
        "      smaller = y\n",
        "  elif x<y:\n",
        "      smaller = x\n",
        "  else:\n",
        "    return x\n",
        "  while(y):\n",
        "         x, y = y, x % y\n",
        "\n",
        "  return x\n",
        "\n",
        "print(hcf(11,77))\n",
        "print(hcf1(11,11))"
      ],
      "execution_count": 32,
      "outputs": [
        {
          "output_type": "stream",
          "text": [
            "11\n",
            "11\n"
          ],
          "name": "stdout"
        }
      ]
    },
    {
      "metadata": {
        "id": "JDh_c-IsR8zO",
        "colab_type": "code",
        "colab": {
          "base_uri": "https://localhost:8080/",
          "height": 50
        },
        "outputId": "ad6800f7-f6e1-40ea-8378-57182d3b429e"
      },
      "cell_type": "code",
      "source": [
        "#LCM oftwo numbers\n",
        "def lcm(x, y):\n",
        "  if x > y:\n",
        "       greater = x\n",
        "  else:\n",
        "       greater = y\n",
        "\n",
        "  while(True):\n",
        "      if((greater % x == 0) and (greater % y == 0)):\n",
        "           lcm = greater\n",
        "           break\n",
        "      greater += 1\n",
        "\n",
        "  return lcm\n",
        "def lcm2(x, y):\n",
        "  lcm = (x*y)//hcf(x,y)\n",
        "  return lcm\n",
        "\n",
        "print(lcm(10,35))\n",
        "print(lcm2(10,15))"
      ],
      "execution_count": 26,
      "outputs": [
        {
          "output_type": "stream",
          "text": [
            "70\n",
            "30\n"
          ],
          "name": "stdout"
        }
      ]
    },
    {
      "metadata": {
        "id": "ktgaQIEbTnGA",
        "colab_type": "code",
        "colab": {
          "base_uri": "https://localhost:8080/",
          "height": 34
        },
        "outputId": "b9462c23-fb61-410b-c169-cb5a0617f9f6"
      },
      "cell_type": "code",
      "source": [
        "#factors of a number\n",
        "def factors(n):\n",
        "  factor=[i for i in range(1, int(n**0.5) + 1) if n % i == 0]\n",
        "  return factor\n",
        "factors(120)"
      ],
      "execution_count": 31,
      "outputs": [
        {
          "output_type": "execute_result",
          "data": {
            "text/plain": [
              "[1, 2, 3, 4, 5, 6, 8, 10]"
            ]
          },
          "metadata": {
            "tags": []
          },
          "execution_count": 31
        }
      ]
    },
    {
      "metadata": {
        "id": "8Gs5AjXqWjJZ",
        "colab_type": "code",
        "colab": {
          "base_uri": "https://localhost:8080/",
          "height": 34
        },
        "outputId": "4ccc1fe3-ca98-492b-c1ab-ebfd9979937e"
      },
      "cell_type": "code",
      "source": [
        "# sum of digits of a number\n",
        "\n",
        "def sum_digits(num):\n",
        "  sum=0\n",
        "  while(num):\n",
        "    rem=num%10\n",
        "    sum+=rem\n",
        "    num=num/10\n",
        "  return sum\n",
        "\n",
        "sum_digits(1234)"
      ],
      "execution_count": 33,
      "outputs": [
        {
          "output_type": "execute_result",
          "data": {
            "text/plain": [
              "10"
            ]
          },
          "metadata": {
            "tags": []
          },
          "execution_count": 33
        }
      ]
    },
    {
      "metadata": {
        "id": "9AnG8-rPXGjI",
        "colab_type": "code",
        "colab": {
          "base_uri": "https://localhost:8080/",
          "height": 34
        },
        "outputId": "a42ee8fc-1b8d-4146-9e44-e5cc38ba2ca3"
      },
      "cell_type": "code",
      "source": [
        "# factorial of a number\n",
        "\n",
        "def cal_fact(num):\n",
        "  fact=1\n",
        "  if num==0 or num==1:\n",
        "    return 1\n",
        "  else:\n",
        "    for i in range(1,num+1):\n",
        "      fact*=i\n",
        "  return fact\n",
        "\n",
        "cal_fact(5)"
      ],
      "execution_count": 36,
      "outputs": [
        {
          "output_type": "execute_result",
          "data": {
            "text/plain": [
              "120"
            ]
          },
          "metadata": {
            "tags": []
          },
          "execution_count": 36
        }
      ]
    },
    {
      "metadata": {
        "id": "H_pwztZzXrXu",
        "colab_type": "code",
        "colab": {
          "base_uri": "https://localhost:8080/",
          "height": 34
        },
        "outputId": "fa04feac-f021-4af2-beae-369029ca019d"
      },
      "cell_type": "code",
      "source": [
        "#palindrome\n",
        "def check_palindrome(num):\n",
        "  sum=0\n",
        "  temp=num\n",
        "  while(num):\n",
        "    rem=num%10\n",
        "    sum=sum*10+rem\n",
        "    num=num/10\n",
        "  if sum==temp:\n",
        "    return True \n",
        "  else:\n",
        "    return False\n",
        "\n",
        "check_palindrome(123421)"
      ],
      "execution_count": 43,
      "outputs": [
        {
          "output_type": "execute_result",
          "data": {
            "text/plain": [
              "False"
            ]
          },
          "metadata": {
            "tags": []
          },
          "execution_count": 43
        }
      ]
    },
    {
      "metadata": {
        "id": "tsL980urXrgo",
        "colab_type": "code",
        "colab": {
          "base_uri": "https://localhost:8080/",
          "height": 34
        },
        "outputId": "171b2d6c-468b-4d54-b7af-e96fc2a51d4b"
      },
      "cell_type": "code",
      "source": [
        "# armstrong\n",
        "def check_armstrong(num):\n",
        "  sum=0\n",
        "  temp=num\n",
        "  while(num):\n",
        "    rem=num%10\n",
        "    sum+=rem*rem*rem\n",
        "    num=num/10\n",
        "  if sum==temp:\n",
        "    return True \n",
        "  else:\n",
        "    return False\n",
        "\n",
        "check_armstrong(371)"
      ],
      "execution_count": 47,
      "outputs": [
        {
          "output_type": "execute_result",
          "data": {
            "text/plain": [
              "True"
            ]
          },
          "metadata": {
            "tags": []
          },
          "execution_count": 47
        }
      ]
    },
    {
      "metadata": {
        "id": "VIxebEWFYxtT",
        "colab_type": "code",
        "colab": {
          "base_uri": "https://localhost:8080/",
          "height": 34
        },
        "outputId": "7060cb7a-e75a-48e9-9a35-a23904e811a9"
      },
      "cell_type": "code",
      "source": [
        "#palindrome string\n",
        "s=\"madam\"\n",
        "if s==s[::-1]:\n",
        "  print(True)\n",
        "else:\n",
        "  print(False)"
      ],
      "execution_count": 50,
      "outputs": [
        {
          "output_type": "stream",
          "text": [
            "True\n"
          ],
          "name": "stdout"
        }
      ]
    },
    {
      "metadata": {
        "id": "Zn1s44giZFLl",
        "colab_type": "code",
        "colab": {
          "base_uri": "https://localhost:8080/",
          "height": 84
        },
        "outputId": "79ea6ddf-3d12-436b-fbbf-c39f30146654"
      },
      "cell_type": "code",
      "source": [
        "#print sum of prime numbers in a given range\n",
        "def print_prime(limit):\n",
        "  flag=0\n",
        "  for i in range(1,limit+1):\n",
        "    count=0\n",
        "    for j in range(1,limit+1):\n",
        "      if i%j==0:\n",
        "        count+=1\n",
        "    if count==2:\n",
        "      print(i)\n",
        "print_prime(10)"
      ],
      "execution_count": 56,
      "outputs": [
        {
          "output_type": "stream",
          "text": [
            "2\n",
            "3\n",
            "5\n",
            "7\n"
          ],
          "name": "stdout"
        }
      ]
    }
  ]
}